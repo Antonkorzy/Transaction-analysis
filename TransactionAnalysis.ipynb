{
  "nbformat": 4,
  "nbformat_minor": 0,
  "metadata": {
    "colab": {
      "name": "TransactionAnalysis.ipynb",
      "version": "0.3.2",
      "provenance": [],
      "collapsed_sections": []
    },
    "kernelspec": {
      "name": "python3",
      "display_name": "Python 3"
    }
  },
  "cells": [
    {
      "cell_type": "code",
      "metadata": {
        "id": "o0X0kxpSLpdZ",
        "colab_type": "code",
        "outputId": "5922b14d-fa51-4603-eef7-31d2d7829203",
        "colab": {
          "base_uri": "https://localhost:8080/",
          "height": 1181
        }
      },
      "source": [
        "from matplotlib.colors import ListedColormap\n",
        "from sklearn import datasets, metrics, tree\n",
        "import numpy as np\n",
        "colors = ListedColormap(['red', 'blue', 'yellow'])\n",
        "light_colors = ListedColormap(['lightcoral', 'lightblue', 'lightyellow'])\n",
        "import itertools\n",
        "import pandas as pd\n",
        "import matplotlib.pyplot as plt\n",
        "import seaborn as sns\n",
        "import numpy as np\n",
        "from sklearn.linear_model import LogisticRegression\n",
        "from sklearn.model_selection import train_test_split\n",
        "from sklearn.metrics import confusion_matrix\n",
        "from sklearn.metrics import roc_curve\n",
        "df = pd.read_csv('https://drive.google.com/uc?authuser=0&id=1gV62b4ebqAZhZQytRn0tkaZeHSMhlequ&export=download', sep=';', engine='python')\n",
        "df['balanceOrigErr'] = df['newbalanceOrig']+df['amount']-df['oldbalanceOrg']\n",
        "df['balanceDestErr'] = df['oldbalanceDest']+df['amount']-df['newbalanceDest']\n",
        "df=df.drop(['newbalanceOrig','oldbalanceOrg','oldbalanceDest','newbalanceDest'], axis=1)\n",
        "X = df.drop(['isFraud','isFlaggedFraud'], axis=1)\n",
        "y = df['isFraud']\n",
        "print(df)\n",
        "# Делим выборку на train и test, все метрики будем оценивать на тестовом датасете\n",
        "\n",
        "train_data, test_data, train_label, test_label = train_test_split(X, y, test_size = 0.2, random_state=42)"
      ],
      "execution_count": 28,
      "outputs": [
        {
          "output_type": "stream",
          "text": [
            "         step  type     amount  ...  isFlaggedFraud  balanceOrigErr  balanceDestErr\n",
            "0           1     3    9839.64  ...               0            0.00    9.839640e+03\n",
            "1           1     3    1864.28  ...               0            0.00    1.864280e+03\n",
            "2           1     4     181.00  ...               0            0.00    1.810000e+02\n",
            "3           1     1     181.00  ...               0            0.00    2.136300e+04\n",
            "4           1     3   11668.14  ...               0            0.00    1.166814e+04\n",
            "5           1     3    7817.71  ...               0            0.00    7.817710e+03\n",
            "6           1     3    7107.77  ...               0            0.00    7.107770e+03\n",
            "7           1     3    7861.64  ...               0            0.00    7.861640e+03\n",
            "8           1     3    4024.36  ...               0         1353.36    4.024360e+03\n",
            "9           1     2    5337.77  ...               0            0.00    6.886980e+03\n",
            "10          1     2    9644.94  ...               0         5179.94   -1.374922e+05\n",
            "11          1     3    3099.97  ...               0            0.00    3.099970e+03\n",
            "12          1     3    2560.74  ...               0            0.00    2.560740e+03\n",
            "13          1     3   11633.76  ...               0         1506.76    1.163376e+04\n",
            "14          1     3    4098.78  ...               0            0.00    4.098780e+03\n",
            "15          1     1  229133.94  ...               0       213808.94    1.827035e+05\n",
            "16          1     3    1563.82  ...               0         1113.82    1.563820e+03\n",
            "17          1     3    1157.86  ...               0            0.00    1.157860e+03\n",
            "18          1     3     671.64  ...               0            0.00    6.716400e+02\n",
            "19          1     4  215310.30  ...               0       214605.30    2.377353e+05\n",
            "20          1     3    1373.43  ...               0            0.00    1.373430e+03\n",
            "21          1     2    9302.79  ...               0            0.00    2.223809e+04\n",
            "22          1     2    1065.41  ...               0            0.00    1.139541e+04\n",
            "23          1     3    3876.41  ...               0            0.00    3.876410e+03\n",
            "24          1     4  311685.89  ...               0       300850.89   -2.401220e+06\n",
            "25          1     3    6061.13  ...               0         5618.13    6.061130e+03\n",
            "26          1     3    9478.39  ...               0            0.00    9.478390e+03\n",
            "27          1     3    8009.09  ...               0            0.00    8.009090e+03\n",
            "28          1     3    8901.99  ...               0         5943.08    8.901990e+03\n",
            "29          1     3    9920.52  ...               0         9920.52    9.920520e+03\n",
            "...       ...   ...        ...  ...             ...             ...             ...\n",
            "1048545    95     3    7521.34  ...               0         7521.34    7.521340e+03\n",
            "1048546    95     2    2368.49  ...               0         2079.49    0.000000e+00\n",
            "1048547    95     3   12610.69  ...               0        12610.69    1.261069e+04\n",
            "1048548    95     3    1759.86  ...               0            0.00    1.759860e+03\n",
            "1048549    95     2    9983.95  ...               0         8986.95    4.656613e-10\n",
            "1048550    95     3    2059.20  ...               0            0.00    2.059200e+03\n",
            "1048551    95     3   14409.67  ...               0           -0.01    1.440967e+04\n",
            "1048552    95     3     184.00  ...               0            0.00    1.840000e+02\n",
            "1048553    95     1  103391.93  ...               0            0.00   -9.313226e-10\n",
            "1048554    95     3    1075.92  ...               0            0.00    1.075920e+03\n",
            "1048555    95     3   11920.72  ...               0            0.00    1.192072e+04\n",
            "1048556    95     3    6538.04  ...               0            0.00    6.538040e+03\n",
            "1048557    95     3   25963.87  ...               0            0.00    2.596387e+04\n",
            "1048558    95     1   26535.41  ...               0            0.00    1.000000e-02\n",
            "1048559    95     3    7986.90  ...               0            0.00    7.986900e+03\n",
            "1048560    95     0  113412.53  ...               0       226825.06    2.268251e+05\n",
            "1048561    95     2    7880.88  ...               0            0.00    0.000000e+00\n",
            "1048562    95     0   37644.42  ...               0        75288.84    5.885438e+04\n",
            "1048563    95     3    9414.75  ...               0            0.00    9.414750e+03\n",
            "1048564    95     3    5227.49  ...               0            0.00    5.227490e+03\n",
            "1048565    95     4  132387.24  ...               0       116430.73    0.000000e+00\n",
            "1048566    95     3   12598.15  ...               0            0.00    1.259815e+04\n",
            "1048567    95     1  279674.05  ...               0       261671.20    1.000000e-02\n",
            "1048568    95     3   20721.54  ...               0            0.00    2.072154e+04\n",
            "1048569    95     3    3210.11  ...               0            0.00    3.210110e+03\n",
            "1048570    95     1  132557.35  ...               0            0.00    0.000000e+00\n",
            "1048571    95     3    9917.36  ...               0            0.00    9.917360e+03\n",
            "1048572    95     3   14140.05  ...               0            0.00    1.414005e+04\n",
            "1048573    95     3   10020.05  ...               0            0.00    1.002005e+04\n",
            "1048574    95     3   11450.03  ...               0            0.00    1.145003e+04\n",
            "\n",
            "[1048575 rows x 9 columns]\n"
          ],
          "name": "stdout"
        }
      ]
    },
    {
      "cell_type": "code",
      "metadata": {
        "id": "zvq4PPrvnQRB",
        "colab_type": "code",
        "outputId": "ad9e925d-5b11-4e5f-e670-0dbe23f05227",
        "colab": {
          "base_uri": "https://localhost:8080/",
          "height": 72
        }
      },
      "source": [
        "train_data.columns"
      ],
      "execution_count": 0,
      "outputs": [
        {
          "output_type": "execute_result",
          "data": {
            "text/plain": [
              "Index(['step', 'type', 'amount', 'nameOrig', 'nameDest', 'balanceOrigErr',\n",
              "       'balanceDestErr'],\n",
              "      dtype='object')"
            ]
          },
          "metadata": {
            "tags": []
          },
          "execution_count": 23
        }
      ]
    },
    {
      "cell_type": "code",
      "metadata": {
        "id": "hESkjC2_VEoF",
        "colab_type": "code",
        "colab": {}
      },
      "source": [
        "#Формируем веса для переменных\n",
        "from sklearn.utils import compute_class_weight\n",
        "\n",
        "w = compute_class_weight('balanced', np.unique(train_label), train_label)\n",
        "\n",
        "weights = {\n",
        "     np.unique(train_label)[0] : w[0], # class 0 with weight 0\n",
        "     np.unique(train_label)[1] : w[1]  # class 1 with weight 1 \n",
        "}"
      ],
      "execution_count": 0,
      "outputs": []
    },
    {
      "cell_type": "code",
      "metadata": {
        "id": "L_melOYlT0La",
        "colab_type": "code",
        "colab": {}
      },
      "source": [
        "# Обучаем классификатор случайного леса\n",
        "from sklearn.ensemble import RandomForestClassifier\n",
        "rf = RandomForestClassifier(bootstrap=True, class_weight=weights,  criterion='gini', n_estimators = 100, random_state = 42)\n",
        "rf = rf.fit(train_data, train_label);"
      ],
      "execution_count": 0,
      "outputs": []
    },
    {
      "cell_type": "code",
      "metadata": {
        "id": "LViM-Y0mcknl",
        "colab_type": "code",
        "colab": {}
      },
      "source": [
        "estimator = rf.estimators_[5]\n",
        "\n",
        "from sklearn.tree import export_graphviz\n",
        "# Export as dot file\n",
        "export_graphviz(estimator, out_file='tree.dot', \n",
        "                max_depth = 3,\n",
        "                feature_names = train_data.columns,\n",
        "                #class_names = train_label.columns,\n",
        "                rounded = True, proportion = False, \n",
        "                precision = 2, filled = True)\n",
        "\n",
        "# Convert to png using system command (requires Graphviz)\n",
        "from subprocess import call\n",
        "call(['dot', '-Tpng', 'tree.dot', '-o', 'tree.png', '-Gdpi=600'])\n",
        "\n",
        "# Display in jupyter notebook\n",
        "from IPython.display import Image\n",
        "Image(filename = 'tree.png')"
      ],
      "execution_count": 0,
      "outputs": []
    },
    {
      "cell_type": "code",
      "metadata": {
        "id": "6ujqT7ABQ84a",
        "colab_type": "code",
        "outputId": "258ea160-f5c3-4b88-84c8-bc241d520022",
        "colab": {
          "base_uri": "https://localhost:8080/",
          "height": 102
        }
      },
      "source": [
        "# Предсказания делаем по случайному лесу\n",
        "predictions = rf.predict(test_data)\n",
        "print(metrics.accuracy_score(test_label, predictions))\n",
        "print(metrics.recall_score(test_label, predictions))\n",
        "print(metrics.precision_score(test_label, predictions))\n",
        "metrics.confusion_matrix(test_label, predictions)"
      ],
      "execution_count": 0,
      "outputs": [
        {
          "output_type": "stream",
          "text": [
            "0.9993801111031638\n",
            "0.5131578947368421\n",
            "0.8602941176470589\n"
          ],
          "name": "stdout"
        },
        {
          "output_type": "execute_result",
          "data": {
            "text/plain": [
              "array([[209468,     19],\n",
              "       [   111,    117]])"
            ]
          },
          "metadata": {
            "tags": []
          },
          "execution_count": 6
        }
      ]
    },
    {
      "cell_type": "code",
      "metadata": {
        "id": "83rOQi-ha5fd",
        "colab_type": "code",
        "outputId": "349eda5f-cd64-4dc1-a184-a854f3f31f9e",
        "colab": {
          "base_uri": "https://localhost:8080/",
          "height": 34
        }
      },
      "source": [
        "#Рассчитываем F-меру для случайного леса\n",
        "print(2*(metrics.precision_score(test_label, predictions)*metrics.recall_score(test_label, predictions))/(metrics.precision_score(test_label, predictions)+metrics.recall_score(test_label, predictions)))"
      ],
      "execution_count": 0,
      "outputs": [
        {
          "output_type": "stream",
          "text": [
            "0.8704156479217603\n"
          ],
          "name": "stdout"
        }
      ]
    },
    {
      "cell_type": "code",
      "metadata": {
        "id": "uxhdsgsmWZ0j",
        "colab_type": "code",
        "colab": {}
      },
      "source": [
        "#Функция по визуализации матрицы ошибок\n",
        "def plot_confusion_matrix(cm, classes,\n",
        "                          normalize=False,\n",
        "                          title='Confusion matrix',\n",
        "                          cmap=plt.cm.Blues):\n",
        "    \"\"\"\n",
        "    This function prints and plots the confusion matrix.\n",
        "    Normalization can be applied by setting `normalize=True`.\n",
        "    \"\"\"\n",
        "    plt.imshow(cm, interpolation='nearest', cmap=cmap)\n",
        "    plt.title(title)\n",
        "    plt.colorbar()\n",
        "    tick_marks = np.arange(len(classes))\n",
        "    plt.xticks(tick_marks, classes, rotation=45)\n",
        "    plt.yticks(tick_marks, classes)\n",
        "\n",
        "    if normalize:\n",
        "        cm = cm.astype('float') / cm.sum(axis=1)[:, np.newaxis]\n",
        "        print(\"Normalized confusion matrix\")\n",
        "    else:\n",
        "        print('Confusion matrix, without normalization')\n",
        "\n",
        "    print(cm)\n",
        "\n",
        "    thresh = cm.max() / 2.\n",
        "    for i, j in itertools.product(range(cm.shape[0]), range(cm.shape[1])):\n",
        "        plt.text(j, i, cm[i, j],\n",
        "                 horizontalalignment=\"center\",\n",
        "                 color=\"white\" if cm[i, j] > thresh else \"black\")\n",
        "\n",
        "    plt.tight_layout()\n",
        "    plt.ylabel('Исходные значения')\n",
        "    plt.xlabel('Предсказаннные значения')"
      ],
      "execution_count": 0,
      "outputs": []
    },
    {
      "cell_type": "code",
      "metadata": {
        "id": "obK2V84Q0IgI",
        "colab_type": "code",
        "outputId": "f02ea38f-baf7-48c3-f947-c16bfe143e07",
        "colab": {
          "base_uri": "https://localhost:8080/",
          "height": 645
        }
      },
      "source": [
        "#Выводим на экран матрицу ошибок\n",
        "font = {'size' : 15}\n",
        "\n",
        "plt.rc('font', **font)\n",
        "\n",
        "cnf_matrix = confusion_matrix(test_label, rf.predict(test_data))\n",
        "plt.figure(figsize=(10, 8))\n",
        "plot_confusion_matrix(cnf_matrix, classes=['0', '1'],\n",
        "                      title='Матрица ошибок')\n",
        "#plt.savefig(\"conf_matrix.png\")\n",
        "plt.show()"
      ],
      "execution_count": 0,
      "outputs": [
        {
          "output_type": "stream",
          "text": [
            "Confusion matrix, without normalization\n",
            "[[209484      7]\n",
            " [    46    178]]\n"
          ],
          "name": "stdout"
        },
        {
          "output_type": "display_data",
          "data": {
            "image/png": "[encoded data removed]",
            "text/plain": [
              "<Figure size 720x576 with 2 Axes>"
            ]
          },
          "metadata": {
            "tags": []
          }
        }
      ]
    },
    {
      "cell_type": "code",
      "metadata": {
        "id": "kas6viqo1Q3v",
        "colab_type": "code",
        "outputId": "50b2c7da-84d9-452f-b25f-79e9a0a6751c",
        "colab": {
          "base_uri": "https://localhost:8080/",
          "height": 139
        }
      },
      "source": [
        "#Построение модели логистической регрессии\n",
        "lr = LogisticRegression(random_state=42)\n",
        "lr.fit(train_data, train_label)"
      ],
      "execution_count": 0,
      "outputs": [
        {
          "output_type": "stream",
          "text": [
            "/usr/local/lib/python3.6/dist-packages/sklearn/linear_model/logistic.py:433: FutureWarning: Default solver will be changed to 'lbfgs' in 0.22. Specify a solver to silence this warning.\n",
            "  FutureWarning)\n"
          ],
          "name": "stderr"
        },
        {
          "output_type": "execute_result",
          "data": {
            "text/plain": [
              "LogisticRegression(C=1.0, class_weight=None, dual=False, fit_intercept=True,\n",
              "          intercept_scaling=1, max_iter=100, multi_class='warn',\n",
              "          n_jobs=None, penalty='l2', random_state=42, solver='warn',\n",
              "          tol=0.0001, verbose=0, warm_start=False)"
            ]
          },
          "metadata": {
            "tags": []
          },
          "execution_count": 65
        }
      ]
    },
    {
      "cell_type": "code",
      "metadata": {
        "id": "kLXB683p2Tvr",
        "colab_type": "code",
        "outputId": "38bcac7c-4827-4248-c47c-6a68f8d6e4ea",
        "colab": {
          "base_uri": "https://localhost:8080/",
          "height": 645
        }
      },
      "source": [
        "font = {'size' : 15}\n",
        "\n",
        "plt.rc('font', **font)\n",
        "\n",
        "cnf_matrix = confusion_matrix(test_label, lr.predict(test_data))\n",
        "plt.figure(figsize=(10, 8))\n",
        "plot_confusion_matrix(cnf_matrix, classes=['0', '1'],\n",
        "                      title='Матрица ошибок')\n",
        "#plt.savefig(\"conf_matrix.png\")\n",
        "plt.show()"
      ],
      "execution_count": 0,
      "outputs": [
        {
          "output_type": "stream",
          "text": [
            "Confusion matrix, without normalization\n",
            "[[209422     69]\n",
            " [   172     52]]\n"
          ],
          "name": "stdout"
        },
        {
          "output_type": "display_data",
          "data": {
            "image/png": "[encoded data removed]",
            "text/plain": [
              "<Figure size 720x576 with 2 Axes>"
            ]
          },
          "metadata": {
            "tags": []
          }
        }
      ]
    },
    {
      "cell_type": "code",
      "metadata": {
        "id": "DW2V5mudOS7L",
        "colab_type": "code",
        "colab": {
          "base_uri": "https://localhost:8080/",
          "height": 35
        },
        "outputId": "c801aa99-b4ae-4d13-8c2f-18fbdd08a00c"
      },
      "source": [
        "import tensorflow\n",
        "from keras.models import Sequential\n",
        "from keras.layers import Input, Dense, Activation, Dropout,LSTM,RNN\n",
        "import keras\n",
        "from keras import backend as K"
      ],
      "execution_count": 4,
      "outputs": [
        {
          "output_type": "stream",
          "text": [
            "Using TensorFlow backend.\n"
          ],
          "name": "stderr"
        }
      ]
    },
    {
      "cell_type": "code",
      "metadata": {
        "id": "aCBqHQv2csp0",
        "colab_type": "code",
        "colab": {}
      },
      "source": [
        "#Строим нейронную сеть\n",
        "def sensitivity(y_true, y_pred):\n",
        "    true_positives = K.sum(K.round(K.clip(y_true * y_pred, 0, 1)))\n",
        "    possible_positives = K.sum(K.round(K.clip(y_true, 0, 1)))\n",
        "    return true_positives / (possible_positives + K.epsilon())\n",
        "\n",
        "def specificity(y_true, y_pred):\n",
        "    true_negatives = K.sum(K.round(K.clip((1-y_true) * (1-y_pred), 0, 1)))\n",
        "    possible_negatives = K.sum(K.round(K.clip(1-y_true, 0, 1)))\n",
        "    return true_negatives / (possible_negatives + K.epsilon())\n",
        "\n",
        "def precision(y_true, y_pred):\t\n",
        "    \"\"\"Precision metric.\t\n",
        "     Only computes a batch-wise average of precision.\t\n",
        "     Computes the precision, a metric for multi-label classification of\t\n",
        "    how many selected items are relevant.\t\n",
        "    \"\"\"\t\n",
        "    true_positives = K.sum(K.round(K.clip(y_true * y_pred, 0, 1)))\t\n",
        "    predicted_positives = K.sum(K.round(K.clip(y_pred, 0, 1)))\t\n",
        "    precision = true_positives / (predicted_positives + K.epsilon())\t\n",
        "    return precision  "
      ],
      "execution_count": 0,
      "outputs": []
    },
    {
      "cell_type": "code",
      "metadata": {
        "id": "ubNReemqNu3t",
        "colab_type": "code",
        "outputId": "30347a8b-648b-430f-8587-cbad7e073551",
        "colab": {
          "base_uri": "https://localhost:8080/",
          "height": 363
        }
      },
      "source": [
        "input_dim = train_data.shape[1]\n",
        "nb_classes = train_label.shape[0]+10000\n",
        "mod = Sequential()\n",
        "mod.add(Dense(7, input_dim=input_dim, activation='relu'))\n",
        "mod.add(Dense(11, activation = 'relu'))\n",
        "mod.add(Dense(7, activation = 'relu'))\n",
        "mod.add(Dense(1, activation = 'sigmoid'))\n",
        "mod.summary()\n",
        "mod.compile( loss = \"binary_crossentropy\",optimizer =keras.optimizers.RMSprop(0.01), metrics = [sensitivity,'accuracy'], weighted_metrics = weights)   \n",
        "res = mod.fit(train_data, train_label, epochs=2, batch_size=32,  verbose=2, class_weight=weights)\n",
        "# Предсказание"
      ],
      "execution_count": 43,
      "outputs": [
        {
          "output_type": "stream",
          "text": [
            "_________________________________________________________________\n",
            "Layer (type)                 Output Shape              Param #   \n",
            "=================================================================\n",
            "dense_113 (Dense)            (None, 7)                 56        \n",
            "_________________________________________________________________\n",
            "dense_114 (Dense)            (None, 11)                88        \n",
            "_________________________________________________________________\n",
            "dense_115 (Dense)            (None, 7)                 84        \n",
            "_________________________________________________________________\n",
            "dense_116 (Dense)            (None, 1)                 8         \n",
            "=================================================================\n",
            "Total params: 236\n",
            "Trainable params: 236\n",
            "Non-trainable params: 0\n",
            "_________________________________________________________________\n",
            "Epoch 1/2\n",
            " - 33s - loss: 8.0224 - sensitivity: 0.0301 - acc: 0.1187\n",
            "Epoch 2/2\n",
            " - 31s - loss: 8.1105 - sensitivity: 0.0266 - acc: 0.2155\n"
          ],
          "name": "stdout"
        }
      ]
    },
    {
      "cell_type": "code",
      "metadata": {
        "id": "brjgU0ZQOCE4",
        "colab_type": "code",
        "outputId": "ab190d23-589f-4c00-b46a-80c13e3a4588",
        "colab": {
          "base_uri": "https://localhost:8080/",
          "height": 649
        }
      },
      "source": [
        "font = {'size' : 15}\n",
        "\n",
        "plt.rc('font', **font)\n",
        "cnf_matrix = confusion_matrix(test_label,mod.predict(test_data).astype(int))  # mod.predict(x_test)) \n",
        "plt.figure(figsize=(10, 8))\n",
        "plot_confusion_matrix(cnf_matrix, classes=['0', '1'],\n",
        "                      title='Матрица ошибок')\n",
        "#plt.savefig(\"conf_matrix.png\")\n",
        "plt.show()"
      ],
      "execution_count": 42,
      "outputs": [
        {
          "output_type": "stream",
          "text": [
            "Confusion matrix, without normalization\n",
            "[[195786  13705]\n",
            " [   209     15]]\n"
          ],
          "name": "stdout"
        },
        {
          "output_type": "display_data",
          "data": {
            "image/png": "[encoded data removed]",
            "text/plain": [
              "<Figure size 720x576 with 2 Axes>"
            ]
          },
          "metadata": {
            "tags": []
          }
        }
      ]
    },
    {
      "cell_type": "code",
      "metadata": {
        "id": "ERgeLoYZqNfZ",
        "colab_type": "code",
        "outputId": "77a21121-c457-495d-a9ef-b80597912b44",
        "colab": {
          "base_uri": "https://localhost:8080/",
          "height": 102
        }
      },
      "source": [
        "predictions_n = mod.predict(test_data)\n",
        "print(metrics.accuracy_score(test_label, predictions_n))\n",
        "print(metrics.recall_score(test_label, predictions_n))\n",
        "print(metrics.precision_score(test_label, predictions_n))\n",
        "metrics.confusion_matrix(test_label, predictions_n)"
      ],
      "execution_count": 0,
      "outputs": [
        {
          "output_type": "stream",
          "text": [
            "0.8286388670338316\n",
            "0.15789473684210525\n",
            "0.0010061205667812527\n"
          ],
          "name": "stdout"
        },
        {
          "output_type": "execute_result",
          "data": {
            "text/plain": [
              "array([[173742,  35745],\n",
              "       [   192,     36]])"
            ]
          },
          "metadata": {
            "tags": []
          },
          "execution_count": 114
        }
      ]
    },
    {
      "cell_type": "code",
      "metadata": {
        "id": "WHsuuMyGswwP",
        "colab_type": "code",
        "outputId": "6738cf3a-7883-4b8f-e2bd-b014b1a2fe5e",
        "colab": {
          "base_uri": "https://localhost:8080/",
          "height": 34
        }
      },
      "source": [
        "#Рассчитываем F-меру для случайного леса\n",
        "print(2*(metrics.precision_score(test_label, predictions)*metrics.recall_score(test_label, predictions))/(metrics.precision_score(test_label, predictions)+metrics.recall_score(test_label, predictions)))"
      ],
      "execution_count": 0,
      "outputs": [
        {
          "output_type": "stream",
          "text": [
            "0.8463476070528968\n"
          ],
          "name": "stdout"
        }
      ]
    },
    {
      "cell_type": "code",
      "metadata": {
        "id": "aumOpoYG2nfd",
        "colab_type": "code",
        "outputId": "20733c93-b93e-4b5b-f6e2-704f6e552984",
        "colab": {
          "base_uri": "https://localhost:8080/",
          "height": 428
        }
      },
      "source": [
        "from linearmodels import PanelOLS\n",
        "import statsmodels.api as sm\n",
        "\n",
        "#year = pd.Categorical(train_data['step'])\n",
        "train_a = train_data.set_index(['nameDest', 'step'])\n",
        "#train_data['step'] = step\n",
        "\n",
        "exog_vars = ['type', 'amount','nameOrig','balanceOrigErr','balanceDestErr']\n",
        "exog = sm.add_constant(train_data[exog_vars])\n",
        "index = pd.MultiIndex.from_frame(train_data)\n",
        "mod = PanelOLS(train_label, exog,time_effects=True)\n",
        "re_res = mod.fit()\n",
        "print(re_res)"
      ],
      "execution_count": 0,
      "outputs": [
        {
          "output_type": "stream",
          "text": [
            "/usr/local/lib/python3.6/dist-packages/numpy/core/fromnumeric.py:2389: FutureWarning: Method .ptp is deprecated and will be removed in a future version. Use numpy.ptp instead.\n",
            "  return ptp(axis=axis, out=out, **kwargs)\n"
          ],
          "name": "stderr"
        },
        {
          "output_type": "error",
          "ename": "ValueError",
          "evalue": "ignored",
          "traceback": [
            "\u001b[0;31m---------------------------------------------------------------------------\u001b[0m",
            "\u001b[0;31mValueError\u001b[0m                                Traceback (most recent call last)",
            "\u001b[0;32m<ipython-input-55-d60c4ee2bdd3>\u001b[0m in \u001b[0;36m<module>\u001b[0;34m()\u001b[0m\n\u001b[1;32m      9\u001b[0m \u001b[0mexog\u001b[0m \u001b[0;34m=\u001b[0m \u001b[0msm\u001b[0m\u001b[0;34m.\u001b[0m\u001b[0madd_constant\u001b[0m\u001b[0;34m(\u001b[0m\u001b[0mtrain_data\u001b[0m\u001b[0;34m[\u001b[0m\u001b[0mexog_vars\u001b[0m\u001b[0;34m]\u001b[0m\u001b[0;34m)\u001b[0m\u001b[0;34m\u001b[0m\u001b[0;34m\u001b[0m\u001b[0m\n\u001b[1;32m     10\u001b[0m \u001b[0mindex\u001b[0m \u001b[0;34m=\u001b[0m \u001b[0mpd\u001b[0m\u001b[0;34m.\u001b[0m\u001b[0mMultiIndex\u001b[0m\u001b[0;34m.\u001b[0m\u001b[0mfrom_frame\u001b[0m\u001b[0;34m(\u001b[0m\u001b[0mtrain_data\u001b[0m\u001b[0;34m)\u001b[0m\u001b[0;34m\u001b[0m\u001b[0;34m\u001b[0m\u001b[0m\n\u001b[0;32m---> 11\u001b[0;31m \u001b[0mmod\u001b[0m \u001b[0;34m=\u001b[0m \u001b[0mPanelOLS\u001b[0m\u001b[0;34m(\u001b[0m\u001b[0mtrain_label\u001b[0m\u001b[0;34m,\u001b[0m \u001b[0mexog\u001b[0m\u001b[0;34m,\u001b[0m\u001b[0mtime_effects\u001b[0m\u001b[0;34m=\u001b[0m\u001b[0;32mTrue\u001b[0m\u001b[0;34m)\u001b[0m\u001b[0;34m\u001b[0m\u001b[0;34m\u001b[0m\u001b[0m\n\u001b[0m\u001b[1;32m     12\u001b[0m \u001b[0mre_res\u001b[0m \u001b[0;34m=\u001b[0m \u001b[0mmod\u001b[0m\u001b[0;34m.\u001b[0m\u001b[0mfit\u001b[0m\u001b[0;34m(\u001b[0m\u001b[0;34m)\u001b[0m\u001b[0;34m\u001b[0m\u001b[0;34m\u001b[0m\u001b[0m\n\u001b[1;32m     13\u001b[0m \u001b[0mprint\u001b[0m\u001b[0;34m(\u001b[0m\u001b[0mre_res\u001b[0m\u001b[0;34m)\u001b[0m\u001b[0;34m\u001b[0m\u001b[0;34m\u001b[0m\u001b[0m\n",
            "\u001b[0;32m/usr/local/lib/python3.6/dist-packages/linearmodels/panel/model.py\u001b[0m in \u001b[0;36m__init__\u001b[0;34m(self, dependent, exog, weights, entity_effects, time_effects, other_effects, singletons)\u001b[0m\n\u001b[1;32m    769\u001b[0m     def __init__(self, dependent, exog, *, weights=None, entity_effects=False, time_effects=False,\n\u001b[1;32m    770\u001b[0m                  other_effects=None, singletons=True):\n\u001b[0;32m--> 771\u001b[0;31m         \u001b[0msuper\u001b[0m\u001b[0;34m(\u001b[0m\u001b[0mPanelOLS\u001b[0m\u001b[0;34m,\u001b[0m \u001b[0mself\u001b[0m\u001b[0;34m)\u001b[0m\u001b[0;34m.\u001b[0m\u001b[0m__init__\u001b[0m\u001b[0;34m(\u001b[0m\u001b[0mdependent\u001b[0m\u001b[0;34m,\u001b[0m \u001b[0mexog\u001b[0m\u001b[0;34m,\u001b[0m \u001b[0mweights\u001b[0m\u001b[0;34m=\u001b[0m\u001b[0mweights\u001b[0m\u001b[0;34m)\u001b[0m\u001b[0;34m\u001b[0m\u001b[0;34m\u001b[0m\u001b[0m\n\u001b[0m\u001b[1;32m    772\u001b[0m \u001b[0;34m\u001b[0m\u001b[0m\n\u001b[1;32m    773\u001b[0m         \u001b[0mself\u001b[0m\u001b[0;34m.\u001b[0m\u001b[0m_entity_effects\u001b[0m \u001b[0;34m=\u001b[0m \u001b[0mentity_effects\u001b[0m\u001b[0;34m\u001b[0m\u001b[0;34m\u001b[0m\u001b[0m\n",
            "\u001b[0;32m/usr/local/lib/python3.6/dist-packages/linearmodels/panel/model.py\u001b[0m in \u001b[0;36m__init__\u001b[0;34m(self, dependent, exog, weights)\u001b[0m\n\u001b[1;32m    185\u001b[0m \u001b[0;34m\u001b[0m\u001b[0m\n\u001b[1;32m    186\u001b[0m     \u001b[0;32mdef\u001b[0m \u001b[0m__init__\u001b[0m\u001b[0;34m(\u001b[0m\u001b[0mself\u001b[0m\u001b[0;34m,\u001b[0m \u001b[0mdependent\u001b[0m\u001b[0;34m,\u001b[0m \u001b[0mexog\u001b[0m\u001b[0;34m,\u001b[0m \u001b[0;34m*\u001b[0m\u001b[0;34m,\u001b[0m \u001b[0mweights\u001b[0m\u001b[0;34m=\u001b[0m\u001b[0;32mNone\u001b[0m\u001b[0;34m)\u001b[0m\u001b[0;34m:\u001b[0m\u001b[0;34m\u001b[0m\u001b[0;34m\u001b[0m\u001b[0m\n\u001b[0;32m--> 187\u001b[0;31m         \u001b[0mself\u001b[0m\u001b[0;34m.\u001b[0m\u001b[0mdependent\u001b[0m \u001b[0;34m=\u001b[0m \u001b[0mPanelData\u001b[0m\u001b[0;34m(\u001b[0m\u001b[0mdependent\u001b[0m\u001b[0;34m,\u001b[0m \u001b[0;34m'Dep'\u001b[0m\u001b[0;34m)\u001b[0m\u001b[0;34m\u001b[0m\u001b[0;34m\u001b[0m\u001b[0m\n\u001b[0m\u001b[1;32m    188\u001b[0m         \u001b[0mself\u001b[0m\u001b[0;34m.\u001b[0m\u001b[0mexog\u001b[0m \u001b[0;34m=\u001b[0m \u001b[0mPanelData\u001b[0m\u001b[0;34m(\u001b[0m\u001b[0mexog\u001b[0m\u001b[0;34m,\u001b[0m \u001b[0;34m'Exog'\u001b[0m\u001b[0;34m)\u001b[0m\u001b[0;34m\u001b[0m\u001b[0;34m\u001b[0m\u001b[0m\n\u001b[1;32m    189\u001b[0m         \u001b[0mself\u001b[0m\u001b[0;34m.\u001b[0m\u001b[0m_original_shape\u001b[0m \u001b[0;34m=\u001b[0m \u001b[0mself\u001b[0m\u001b[0;34m.\u001b[0m\u001b[0mdependent\u001b[0m\u001b[0;34m.\u001b[0m\u001b[0mshape\u001b[0m\u001b[0;34m\u001b[0m\u001b[0;34m\u001b[0m\u001b[0m\n",
            "\u001b[0;32m/usr/local/lib/python3.6/dist-packages/linearmodels/panel/data.py\u001b[0m in \u001b[0;36m__init__\u001b[0;34m(self, x, var_name, convert_dummies, drop_first, copy)\u001b[0m\n\u001b[1;32m    175\u001b[0m             \u001b[0mx\u001b[0m \u001b[0;34m=\u001b[0m \u001b[0mDataFrame\u001b[0m\u001b[0;34m(\u001b[0m\u001b[0mx\u001b[0m\u001b[0;34m)\u001b[0m\u001b[0;34m\u001b[0m\u001b[0;34m\u001b[0m\u001b[0m\n\u001b[1;32m    176\u001b[0m         \u001b[0;32melif\u001b[0m \u001b[0misinstance\u001b[0m\u001b[0;34m(\u001b[0m\u001b[0mx\u001b[0m\u001b[0;34m,\u001b[0m \u001b[0mSeries\u001b[0m\u001b[0;34m)\u001b[0m\u001b[0;34m:\u001b[0m\u001b[0;34m\u001b[0m\u001b[0;34m\u001b[0m\u001b[0m\n\u001b[0;32m--> 177\u001b[0;31m             \u001b[0;32mraise\u001b[0m \u001b[0mValueError\u001b[0m\u001b[0;34m(\u001b[0m\u001b[0;34m'Series can only be used with a 2-level MultiIndex'\u001b[0m\u001b[0;34m)\u001b[0m\u001b[0;34m\u001b[0m\u001b[0;34m\u001b[0m\u001b[0m\n\u001b[0m\u001b[1;32m    178\u001b[0m \u001b[0;34m\u001b[0m\u001b[0m\n\u001b[1;32m    179\u001b[0m         \u001b[0;32mif\u001b[0m \u001b[0misinstance\u001b[0m\u001b[0;34m(\u001b[0m\u001b[0mx\u001b[0m\u001b[0;34m,\u001b[0m \u001b[0;34m(\u001b[0m\u001b[0mPanel\u001b[0m\u001b[0;34m,\u001b[0m \u001b[0mDataFrame\u001b[0m\u001b[0;34m)\u001b[0m\u001b[0;34m)\u001b[0m\u001b[0;34m:\u001b[0m\u001b[0;34m\u001b[0m\u001b[0;34m\u001b[0m\u001b[0m\n",
            "\u001b[0;31mValueError\u001b[0m: Series can only be used with a 2-level MultiIndex"
          ]
        }
      ]
    },
    {
      "cell_type": "code",
      "metadata": {
        "id": "VDICaqjQA4rN",
        "colab_type": "code",
        "colab": {}
      },
      "source": [
        "train_label"
      ],
      "execution_count": 0,
      "outputs": []
    }
  ]
}